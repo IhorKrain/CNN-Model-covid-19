{
 "cells": [
  {
   "cell_type": "code",
   "id": "initial_id",
   "metadata": {
    "collapsed": true,
    "ExecuteTime": {
     "end_time": "2025-03-17T13:30:15.431924Z",
     "start_time": "2025-03-17T13:27:45.209014Z"
    }
   },
   "source": [
    "from torchvision import models\n",
    "import torch\n",
    "import torch.nn as nn\n",
    "import torch.optim as optim\n",
    "from torch.utils.data import Dataset , DataLoader\n",
    "from torchvision import transforms\n",
    "import pandas as pd\n",
    "\n",
    "\n",
    "\n",
    "train_dataset = torch.load('train_dataset.pth')\n",
    "test_dataset = torch.load('test_dataset.pth')\n",
    "\n",
    "train_loader = DataLoader(train_dataset, batch_size=32, shuffle=True)\n",
    "test_loader = DataLoader(test_dataset, batch_size=32, shuffle=False)\n",
    "\n",
    "device = torch.device('cuda' if torch.cuda.is_available() else 'cpu')\n",
    "\n",
    "model = models.mobilenet_v2(pretrained=True)\n",
    "\n",
    "# Изменяем классификатор под 3 класса + добавляем Dropout\n",
    "num_classes = 3\n",
    "model.classifier = nn.Sequential(\n",
    "    nn.Dropout(0.3),  # Добавили Dropout для борьбы с переобучением\n",
    "    nn.Linear(model.last_channel, num_classes)\n",
    ")\n",
    "\n",
    "# Переносим модель на GPU/CPU\n",
    "model = model.to(device)\n",
    "\n",
    "# Замораживаем веса всех слоев, кроме классификатора\n",
    "for param in model.features.parameters():\n",
    "    param.requires_grad = False\n",
    "\n",
    "# Функция потерь и оптимизатор\n",
    "criterion = nn.CrossEntropyLoss()\n",
    "optimizer = optim.Adam(model.parameters(), lr=0.001, weight_decay=1e-4)\n",
    "\n",
    "# Добавляем lr_scheduler для плавного уменьшения learning rate\n",
    "scheduler = optim.lr_scheduler.StepLR(optimizer, step_size=3, gamma=0.5)\n",
    "\n",
    "# Аугментация для обучения (усилили)\n",
    "transform_train = transforms.Compose([\n",
    "    transforms.RandomResizedCrop(224, scale=(0.8, 1.0)),  # Кроп с изменением масштаба\n",
    "    transforms.RandomHorizontalFlip(),\n",
    "    transforms.RandomRotation(15),\n",
    "    transforms.ColorJitter(brightness=0.3, contrast=0.3, saturation=0.3, hue=0.1),\n",
    "    transforms.GaussianBlur(kernel_size=(3, 3)),  # Добавили размытие\n",
    "    transforms.ToTensor(),\n",
    "    transforms.Normalize(mean=[0.485, 0.456, 0.406], std=[0.229, 0.224, 0.225]),\n",
    "])\n",
    "\n",
    "# Аугментация для валидации (без изменений)\n",
    "transform_val = transforms.Compose([\n",
    "    transforms.Resize((224, 224)),\n",
    "    transforms.ToTensor(),\n",
    "    transforms.Normalize(mean=[0.485, 0.456, 0.406], std=[0.229, 0.224, 0.225]),\n",
    "])\n",
    "\n",
    "# Создаем DataLoader'ы с shuffle=True для обучения\n",
    "train_loader = DataLoader(train_dataset, batch_size=32, shuffle=True)\n",
    "test_loader = DataLoader(test_dataset, batch_size=32, shuffle=False)\n",
    "\n",
    "# Тренировка модели\n",
    "num_epochs = 10\n",
    "for epoch in range(num_epochs):\n",
    "    model.train()\n",
    "    train_loss, train_correct = 0, 0\n",
    "\n",
    "    for images, labels in train_loader:\n",
    "        images, labels = images.to(device), labels.to(device)\n",
    "        optimizer.zero_grad()\n",
    "\n",
    "        outputs = model(images)\n",
    "        loss = criterion(outputs, labels)\n",
    "        loss.backward()\n",
    "        optimizer.step()\n",
    "\n",
    "        train_loss += loss.item()\n",
    "        train_correct += (outputs.argmax(1) == labels).sum().item()\n",
    "\n",
    "    train_accuracy = train_correct / len(train_dataset)\n",
    "\n",
    "    # Валидация\n",
    "    model.eval()\n",
    "    val_loss, val_correct = 0, 0\n",
    "    with torch.no_grad():\n",
    "        for images, labels in test_loader:\n",
    "            images, labels = images.to(device), labels.to(device)\n",
    "            outputs = model(images)\n",
    "            loss = criterion(outputs, labels)\n",
    "\n",
    "            val_loss += loss.item()\n",
    "            val_correct += (outputs.argmax(1) == labels).sum().item()\n",
    "\n",
    "    val_accuracy = val_correct / len(test_dataset)\n",
    "\n",
    "    # Обновляем lr_scheduler\n",
    "    scheduler.step()\n",
    "\n",
    "    print(f\"Epoch {epoch + 1}: Train Acc: {train_accuracy:.2f}, Val Acc: {val_accuracy:.2f}\")\n",
    "\n"
   ],
   "outputs": [
    {
     "name": "stderr",
     "output_type": "stream",
     "text": [
      "C:\\Users\\igork\\anaconda3\\Lib\\site-packages\\torchvision\\models\\_utils.py:208: UserWarning: The parameter 'pretrained' is deprecated since 0.13 and may be removed in the future, please use 'weights' instead.\n",
      "  warnings.warn(\n",
      "C:\\Users\\igork\\anaconda3\\Lib\\site-packages\\torchvision\\models\\_utils.py:223: UserWarning: Arguments other than a weight enum or `None` for 'weights' are deprecated since 0.13 and may be removed in the future. The current behavior is equivalent to passing `weights=MobileNet_V2_Weights.IMAGENET1K_V1`. You can also use `weights=MobileNet_V2_Weights.DEFAULT` to get the most up-to-date weights.\n",
      "  warnings.warn(msg)\n"
     ]
    },
    {
     "name": "stdout",
     "output_type": "stream",
     "text": [
      "Epoch 1: Train Acc: 0.59, Val Acc: 0.67\n",
      "Epoch 2: Train Acc: 0.85, Val Acc: 0.70\n",
      "Epoch 3: Train Acc: 0.88, Val Acc: 0.68\n",
      "Epoch 4: Train Acc: 0.89, Val Acc: 0.77\n",
      "Epoch 5: Train Acc: 0.92, Val Acc: 0.82\n",
      "Epoch 6: Train Acc: 0.91, Val Acc: 0.86\n",
      "Epoch 7: Train Acc: 0.92, Val Acc: 0.88\n",
      "Epoch 8: Train Acc: 0.93, Val Acc: 0.91\n",
      "Epoch 9: Train Acc: 0.92, Val Acc: 0.94\n",
      "Epoch 10: Train Acc: 0.90, Val Acc: 0.94\n"
     ]
    }
   ],
   "execution_count": 8
  },
  {
   "metadata": {
    "ExecuteTime": {
     "end_time": "2025-03-17T13:30:20.129410Z",
     "start_time": "2025-03-17T13:30:20.121491Z"
    }
   },
   "cell_type": "code",
   "source": [
    "def evaluate_on_test(model, test_loader, device):\n",
    "    \"\"\"\n",
    "    Функция для проверки модели на тестовом датасете.\n",
    "    \"\"\"\n",
    "    model.eval()\n",
    "    test_correct = 0\n",
    "    total = 0\n",
    "\n",
    "    with torch.no_grad():\n",
    "        for images, labels in test_loader:\n",
    "            images, labels = images.to(device), labels.to(device)\n",
    "            outputs = model(images)\n",
    "\n",
    "\n",
    "            _, predicted = torch.max(outputs, 1)\n",
    "            total += labels.size(0)\n",
    "            test_correct += (predicted == labels).sum().item()\n",
    "\n",
    "    test_accuracy = test_correct / total\n",
    "    print(f\"Test Accuracy: {test_accuracy * 100:.2f}%\")\n",
    "    return test_accuracy"
   ],
   "id": "13dac889e8b40008",
   "outputs": [],
   "execution_count": 10
  },
  {
   "metadata": {
    "ExecuteTime": {
     "end_time": "2025-03-17T13:30:24.053568Z",
     "start_time": "2025-03-17T13:30:21.995053Z"
    }
   },
   "cell_type": "code",
   "source": "test_accuracy = evaluate_on_test(model, test_loader, device)\n",
   "id": "8a61bad4866c8eaa",
   "outputs": [
    {
     "name": "stdout",
     "output_type": "stream",
     "text": [
      "Test Accuracy: 93.94%\n"
     ]
    }
   ],
   "execution_count": 11
  }
 ],
 "metadata": {
  "kernelspec": {
   "display_name": "Python 3",
   "language": "python",
   "name": "python3"
  },
  "language_info": {
   "codemirror_mode": {
    "name": "ipython",
    "version": 2
   },
   "file_extension": ".py",
   "mimetype": "text/x-python",
   "name": "python",
   "nbconvert_exporter": "python",
   "pygments_lexer": "ipython2",
   "version": "2.7.6"
  }
 },
 "nbformat": 4,
 "nbformat_minor": 5
}
