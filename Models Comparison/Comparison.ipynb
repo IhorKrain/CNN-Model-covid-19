{
 "cells": [
  {
   "cell_type": "code",
   "id": "initial_id",
   "metadata": {
    "collapsed": true,
    "ExecuteTime": {
     "end_time": "2025-03-17T22:00:15.084450Z",
     "start_time": "2025-03-17T22:00:13.918957Z"
    }
   },
   "source": [
    "import pandas as pd\n",
    "from sklearn.metrics import classification_report\n",
    "\n",
    "\n",
    "df1 = pd.read_csv('results_mobilnet.csv')  \n",
    "df2 = pd.read_csv('results_my_model.csv')  \n",
    "\n",
    "report1 = classification_report(df1['true_labels'], df1['predicted_labels'], output_dict=True)\n",
    "report2 = classification_report(df2['true_labels'], df2['predicted_labels'], output_dict=True)\n",
    "\n",
    "report_df1 = pd.DataFrame(report1).transpose()\n",
    "report_df2 = pd.DataFrame(report2).transpose()\n",
    "\n",
    "comparison = pd.concat([report_df1, report_df2], axis=1, keys=['Model1', 'Model2'])\n",
    "print(comparison)\n"
   ],
   "outputs": [
    {
     "name": "stdout",
     "output_type": "stream",
     "text": [
      "                Model1                                   Model2            \\\n",
      "             precision    recall  f1-score    support precision    recall   \n",
      "0             0.962963  1.000000  0.981132  26.000000  0.925926  0.961538   \n",
      "1             0.928571  0.650000  0.764706  20.000000  0.923077  0.600000   \n",
      "2             0.720000  0.900000  0.800000  20.000000  0.692308  0.900000   \n",
      "accuracy      0.863636  0.863636  0.863636   0.863636  0.833333  0.833333   \n",
      "macro avg     0.870511  0.850000  0.848613  66.000000  0.847104  0.820513   \n",
      "weighted avg  0.878916  0.863636  0.860660  66.000000  0.854269  0.833333   \n",
      "\n",
      "                                   \n",
      "              f1-score    support  \n",
      "0             0.943396  26.000000  \n",
      "1             0.727273  20.000000  \n",
      "2             0.782609  20.000000  \n",
      "accuracy      0.833333   0.833333  \n",
      "macro avg     0.817759  66.000000  \n",
      "weighted avg  0.829181  66.000000  \n"
     ]
    }
   ],
   "execution_count": 1
  },
  {
   "metadata": {},
   "cell_type": "code",
   "outputs": [],
   "execution_count": null,
   "source": "",
   "id": "10e8ad11dcb8f54d"
  }
 ],
 "metadata": {
  "kernelspec": {
   "display_name": "Python 3",
   "language": "python",
   "name": "python3"
  },
  "language_info": {
   "codemirror_mode": {
    "name": "ipython",
    "version": 2
   },
   "file_extension": ".py",
   "mimetype": "text/x-python",
   "name": "python",
   "nbconvert_exporter": "python",
   "pygments_lexer": "ipython2",
   "version": "2.7.6"
  }
 },
 "nbformat": 4,
 "nbformat_minor": 5
}
